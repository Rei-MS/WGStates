{
 "cells": [
  {
   "cell_type": "markdown",
   "id": "863a3d8c-7789-455f-ae1f-6c6675aebb3a",
   "metadata": {
    "tags": []
   },
   "source": [
    "# <center> Theory"
   ]
  },
  {
   "cell_type": "markdown",
   "id": "60d1362f-a01d-48b3-8d36-cf0274d20efc",
   "metadata": {
    "tags": []
   },
   "source": [
    "## <center> Notation and Sigmas.\n",
    "\n",
    "* | 0 ⟩ = | ↑ ⟩$_z$ and | 1 ⟩ = | ↓ ⟩$_z$\n",
    "* $S_i = \\frac{\\hbar}{2}\\sigma_i$\n",
    "* $\\sigma_{\\pm} = \\sigma_x \\pm i \\sigma_y \\quad \\implies \\quad \\sigma_x = \\dfrac{\\sigma_{+} + \\sigma_{-}}{2}, \\quad \\sigma_y = \\dfrac{\\sigma_{+} - \\sigma_{-}}{2i}$\n",
    "* $\\sigma_z$| 0 ⟩ = $+$| 0 ⟩, $\\sigma_z$| 1 ⟩ = $-$| 1 ⟩\n",
    "* $\\sigma_{+}$| 0 ⟩ = 0, $\\quad$ $\\sigma_{+}$| 1 ⟩ = 2| 0 ⟩\n",
    "* $\\sigma_{-}$| 0 ⟩ = 2| 1 ⟩, $\\sigma_{-}$| 1 ⟩ = 0"
   ]
  },
  {
   "cell_type": "markdown",
   "id": "335ba6c9-b3a9-46e0-8847-95ba3c9658bf",
   "metadata": {
    "tags": []
   },
   "source": [
    "## <center> Hamiltonians\n",
    "\n",
    "($\\hbar = 1$) <br>\n",
    "($J>0$, ferromagnetic. $J<0$, antiferromagnetic)"
   ]
  },
  {
   "cell_type": "markdown",
   "id": "7f746dfe-e97e-4f3b-b573-0c47869ce13f",
   "metadata": {
    "tags": []
   },
   "source": [
    "### <center> 1D spin-1/2 XX model\n",
    "\n",
    "$$\n",
    "H_{XX} =-J \\sum_{i} \\left[ S_{i}^{(x)} S_{i+1}^{(x)} + S_{i}^{(y)} S_{i+1}^{(y)}\\right] = -\\frac{J}{4} \\sum_{i} \\left[ \\sigma_{i}^{(x)} \\sigma_{i+1}^{(x)} +\\sigma_{i}^{(y)} \\sigma_{i+1}^{(y)}\\right] = -\\frac{J}{8} \\sum_{i} \\left[ \\sigma_{i}^{(+)} \\sigma_{i+1}^{(-)} + \\sigma_{i}^{(-)} \\sigma_{i+1}^{(+)}\\right]\n",
    "$$"
   ]
  },
  {
   "cell_type": "markdown",
   "id": "9c94a21c-39c4-487e-8552-dfb626a0cff6",
   "metadata": {},
   "source": [
    "### <center> 1D spin-1/2 Heisenberg model\n",
    "\n",
    "$$\n",
    "H_{Heisenberg} =-J \\sum_{i} \\left[ S_{i}^{(x)} S_{i+1}^{(x)} + S_{i}^{(y)} S_{i+1}^{(y)} + S_{i}^{(z)} S_{i+1}^{(z)} \\right] = -\\frac{J}{4} \\sum_{i} \\left[ \\sigma_{i}^{(x)} \\sigma_{i+1}^{(x)} + \\sigma_{i}^{(y)} \\sigma_{i+1}^{(y)} + \\sigma_{i}^{(z)} \\sigma_{i+1}^{(z)} \\right] = -\\frac{J}{8} \\sum_{i} \\left[ \\sigma_{i}^{(+)} \\sigma_{i+1}^{(-)} + \\sigma_{i}^{(-)} \\sigma_{i+1}^{(+)} + \\sigma_{i}^{(z)} \\sigma_{i+1}^{(z)} \\right]\n",
    "$$"
   ]
  },
  {
   "cell_type": "markdown",
   "id": "4f494094-6067-487e-b4e4-04e147c814f4",
   "metadata": {
    "tags": []
   },
   "source": [
    "### <center> 1D spin-1/2 Ising model\n",
    "\n",
    "$$\n",
    "H_{Ising} = -J \\sum_{i} S_{i}^{(x)} S_{i+1}^{(x)} = -\\frac{J}{4} \\sum_{i} \\sigma_{i}^{(x)} \\sigma_{i+1}^{(x)} = -\\frac{J}{16} \\sum_{i} \\left[ \\sigma_{i}^{(+)} \\sigma_{i+1}^{(+)} + \\sigma_{i}^{(+)} \\sigma_{i+1}^{(-)} + \\sigma_{i}^{(-)} \\sigma_{i+1}^{(+)} + \\sigma_{i}^{(-)} \\sigma_{i+1}^{(-)}\\right]\n",
    "$$"
   ]
  },
  {
   "cell_type": "markdown",
   "id": "4be1d800-595d-40fe-a55d-1b103f907b25",
   "metadata": {
    "tags": []
   },
   "source": [
    "### <center> Topology\n",
    "\n",
    "* Open: $1 \\leq i \\leq N-1$\n",
    "* Closed: $1 \\leq i \\leq N, \\quad \\sigma_{N+1}^{(k)} = \\sigma_{1}^{(k)}$"
   ]
  },
  {
   "cell_type": "markdown",
   "id": "ff47ab01-eb36-4e97-8b3d-540a95a02f81",
   "metadata": {
    "tags": []
   },
   "source": [
    "# <center> Variational states\n",
    "    \n",
    "Notation.\n",
    "    \n",
    "- Set of levels: $$\\mathbb{S} = \\{0, 1\\} $$\n",
    "    \n",
    "- Set of spins: $$\\mathcal{V} = \\{1, 2, \\dots, N\\}$$"
   ]
  },
  {
   "cell_type": "markdown",
   "id": "9825aff8-9bf2-4e0c-a477-ed034d24a917",
   "metadata": {
    "tags": []
   },
   "source": [
    "## <center> $|\\Gamma\\rangle$ states.\n",
    "\n",
    "$$|\\Gamma\\rangle_{N} = \\prod_{a=1}^{N} \\prod_{b=a+1}^{N} \\hat{W}_{\\varphi_{ab}}^{(ab)}  |+\\rangle^{\\otimes N}, \\quad \\hat{W}_{\\varphi_{ab}}^{(ab)} = \\text{diag}(1, 1, 1, e^{i \\varphi_{ab}}), \\quad |+\\rangle = \\dfrac{|0\\rangle + |1\\rangle}{\\sqrt{2}} $$\n",
    "\n",
    "Ex:\n",
    "\n",
    "$$ \n",
    "|\\Gamma\\rangle_{3} = \\dfrac{1}{\\sqrt{2^{3}}}(|000\\rangle + |001\\rangle + |010\\rangle + e^{i\\varphi_{23}}|011\\rangle + |100\\rangle + e^{i\\varphi_{13}}|101\\rangle + e^{i\\varphi_{12}}|110\\rangle + e^{i(\\varphi_{12} + \\varphi_{13} + \\varphi_{23})}|111\\rangle)\n",
    "$$"
   ]
  },
  {
   "cell_type": "markdown",
   "id": "fbed8149-783e-4c98-ba47-ad9998a2af72",
   "metadata": {
    "tags": []
   },
   "source": [
    "## <center> Superposition and deformation operators.\n",
    "\n",
    "- Deformation operator: $$\\hat{D}_{\\vec{d}} = \\sum_{s \\in \\mathbb{S}} d_s  |s\\rangle \\langle s|, \\quad \\vec{d} = (1, d)$$\n",
    "\n",
    "- Superposition: $$|\\eta\\rangle_{N} = \\sum_{j=1}^{m} \\alpha^{(j)} \\left( \\prod_{a \\in \\mathcal{V}} \\prod_{b \\in \\mathcal{V} \\\\ b>a} \\hat{W}_{\\varphi_{ab}}^{(ab)} \\right) \\left( \\sum_{\\vec{s} \\in \\mathbb{S}^{N}} \\left[ \\prod_{c \\in \\mathcal{V}} d_{c, s_c}^{(j)} \\right] |\\vec{s}\\rangle\\right) $$ \n",
    "\n",
    "Ex:\n",
    "    \n",
    "$$\\begin{aligned}\n",
    "|\\eta\\rangle_{3} = \\sum_{j=1}^{m} \\alpha^{(j)} \\Big( |000\\rangle + d_{3}^{(j)} |001\\rangle + d_{2}^{(j)}|010\\rangle + d_{2}^{(j)} d_{3}^{(j)} e^{i\\varphi_{23}} |011\\rangle + d_{1}^{(j)}|10 & 0\\rangle \n",
    "+ d_{1}^{(j)} d_{3}^{(j)} e^{i\\varphi_{13}} |101\\rangle + d_{1}^{(j)} d_{2}^{(j)} e^{i\\varphi_{12}}|110\\rangle + \\\\ d_{1}^{(j)} d_{2}^{(j)} d_{3}^{(j)} e^{i(\\varphi_{12} + \\varphi_{13} + \\varphi_{23})}|111\\rangle \\Big) \n",
    "\\end{aligned}$$"
   ]
  },
  {
   "cell_type": "markdown",
   "id": "09efdb91-6f58-409f-9d0a-a6d4ae361ab3",
   "metadata": {
    "tags": []
   },
   "source": [
    "## <center> Local unitaries.\n",
    "    \n",
    "- Expression: $$ U = \\left(\n",
    "\\begin{array}{ll}\n",
    "    e^{i\\beta}\\cos{\\delta} & -e^{-i\\gamma}\\sin{\\delta} \\\\\n",
    "    e^{i\\gamma}\\sin{\\delta} & e^{-i\\beta}\\cos{\\delta} \\\\\n",
    "\\end{array}\n",
    "    \\right) $$"
   ]
  },
  {
   "cell_type": "markdown",
   "id": "e726be20-6713-462d-b82f-d916c3b5dcf5",
   "metadata": {
    "tags": []
   },
   "source": [
    "## <center> Variational states.\n",
    "    \n",
    "$$ |\\Psi(\\vec{x})\\rangle = \\dfrac{|\\eta\\rangle}{\\langle\\eta|\\eta\\rangle^{\\frac{1}{2}}}$$\n",
    "    \n",
    "$$|\\eta\\rangle = \\left[ \\bigotimes_{a=1}^{N} \\hat{U}_{a} \\right] \\left[ \\sum_{j=1}^{m} \\alpha^{(j)} |\\eta^{(j)} \\rangle \\right], \\quad |\\eta^{(j)} \\rangle =  \\left( \\prod_{a, b \\in \\mathcal{V} \\\\ a<b} \\hat{W}_{\\varphi_{ab}}^{(ab)} \\right) \\left( \\sum_{\\vec{s} \\in \\mathbb{S}^{N}} \\left[ \\prod_{c \\in \\mathcal{V}} d_{c, s_c}^{(j)} \\right] |\\vec{s}\\rangle\\right) $$\n",
    "    \n",
    "where:\n",
    "    \n",
    "$$d_{a, 0}^{(j)} = 1 \\quad \\text{and} \\quad d_{a, 1}^{(j)} = d_{a}^{(j)}$$"
   ]
  },
  {
   "cell_type": "markdown",
   "id": "15ddbfc3-52f5-4eea-9264-7be27fdb38ee",
   "metadata": {
    "tags": []
   },
   "source": [
    "### <center> Parameters.\n",
    "    \n",
    "- Phases.\n",
    "    $$\\frac{N(N-1)}{2} \\text{ phases } \\varphi_{ab} \\in \\mathbb{R} \\text{ for sites } a, b$$\n",
    "    \n",
    "- Unitaries.\n",
    "    $$3N \\text{ parameters } \\beta_a, \\gamma_a, \\delta_a \\in \\mathbb{R} \\text{ for site } a$$\n",
    "    \n",
    "- Deformation.\n",
    "    $$2mN \\text{ coefficients } d_{a}^{(j)} \\in \\mathbb{C} \\text{ for site } a \\text{ and superposition term } j$$\n",
    "    \n",
    "- Superposition.\n",
    "    $$2m \\text{ coefficients } \\alpha^{(j)} \\in \\mathbb{C} \\text{ for superposition term } j$$\n",
    "    \n",
    "- Note:\n",
    "    \n",
    "    \n",
    "    $$d_{a}^{(j)} = r_{a}^{(j)}\\exp{\\left(i \\theta_{a}^{(j)}\\right)} \\quad \\text{and} \\quad \\alpha^{(j)} = \\rho^{(j)} \\exp{\\left(i \\nu^{(j)} \\right)}$$\n",
    "    $$r_{a}^{(j)}, \\theta_{a}^{(j)} \\in \\mathbb{R} \\quad \\text{and} \\quad \\rho^{(j)}, \\nu^{(j)} \\in \\mathbb{R}$$"
   ]
  },
  {
   "cell_type": "markdown",
   "id": "677e39eb-c038-411d-8007-8be6cca7e544",
   "metadata": {
    "jp-MarkdownHeadingCollapsed": true,
    "tags": []
   },
   "source": [
    "## <center> Example for N = 2, and m = 2.\n",
    "    \n",
    "$$|\\eta^{(j)}\\rangle_{2} = |00\\rangle + d_{2}^{(j)} |01\\rangle + d_{1}^{(j)}|10\\rangle + d_{1}^{(j)} d_{2}^{(j)} e^{i\\varphi_{12}} |11\\rangle $$\n",
    "    \n",
    "$$\\sum_{j=1}^{2} \\alpha^{(j)} |\\eta^{(j)} \\rangle = \\left(\\alpha^{(1)} + \\alpha^{(2)}\\right) |00\\rangle + \\left( \\alpha^{(1)} d_{2}^{(1)} + \\alpha^{(2)} d_{2}^{(2)} \\right) |01\\rangle + \\left(\\alpha^{(1)} d_{1}^{(1)} + \\alpha^{(2)} d_{1}^{(2)} \\right) |10\\rangle + \\left(\\alpha^{(1)} d_{1}^{(1)} d_{2}^{(1)} + \\alpha^{(2)} d_{1}^{(2)} d_{2}^{(2)} \\right) e^{i\\varphi_{12}} |11\\rangle$$\n",
    "    \n",
    "$$ \\hat{U}_1 \\otimes \\hat{U}_2 = \\left(\n",
    "\\begin{array}{llll}\n",
    "    e^{i(\\beta_1 + \\beta_2)} \\cos{\\delta_1} \\cos{\\delta_2} & -e^{i(\\beta_1 - \\gamma_2)} \\cos{\\delta_1} \\sin{\\delta_2} & -e^{-i(\\gamma_1 - \\beta_2)} \\sin{\\delta_1} \\cos{\\delta_2} & e^{-i(\\gamma_1 + \\gamma_2)} \\sin{\\delta_1} \\sin{\\delta_2} \\\\\n",
    "    e^{i(\\beta_1 + \\gamma_2)} \\cos{\\delta_1} \\sin{\\delta_2} & e^{i(\\beta_1 - \\beta_2)} \\cos{\\delta_1} \\cos{\\delta_2} & -e^{-i(\\gamma_1 - \\gamma_2)} \\sin{\\delta_1} \\sin{\\delta_2} & -e^{-i(\\gamma_1 + \\beta_2)} \\sin{\\delta_1} \\cos{\\delta_2} \\\\\n",
    "    e^{i(\\gamma_1 + \\beta_2)} \\sin{\\delta_1} \\cos{\\delta_2} & -e^{i(\\gamma_1 - \\gamma_2)} \\sin{\\delta_1} \\sin{\\delta_2} & e^{-i(\\beta_1 - \\beta_2)} \\cos{\\delta_1} \\cos{\\delta_2} & -e^{-i(\\beta_1 + \\gamma_2)} \\cos{\\delta_1} \\sin{\\delta_2} \\\\\n",
    "    e^{i(\\gamma_1 + \\gamma_2)} \\sin{\\delta_1} \\sin{\\delta_2} & e^{i(\\gamma_1 - \\beta_2)} \\sin{\\delta_1} \\cos{\\delta_2} & e^{-i(\\beta_1 - \\gamma_2)} \\cos{\\delta_1} \\sin{\\delta_2} & e^{-i(\\beta_1 + \\beta_2)} \\cos{\\delta_1} \\cos{\\delta_2} \\\\\n",
    "\\end{array}\n",
    "    \\right) $$\n",
    "   \n",
    "Thus:\n",
    "    \n",
    "$$ | \\eta \\rangle = $$\n",
    "\n",
    "$$\\left[ \\left(\\alpha^{(1)} + \\alpha^{(2)} \\right) e^{i(\\beta_1 + \\beta_2)} \\cos{\\delta_1} \\cos{\\delta_2} \n",
    "-\\left(\\alpha^{(1)} d_{2}^{(1)} + \\alpha^{(2)} d_{2}^{(2)} \\right) e^{i(\\beta_1 - \\gamma_2)} \\cos{\\delta_1} \\sin{\\delta_2} \n",
    "-\\left(\\alpha^{(1)} d_{1}^{(1)} + \\alpha^{(2)} d_{1}^{(2)} \\right) e^{-i(\\gamma_1-\\beta_2)} \\sin{\\delta_1} \\cos{\\delta_2} + \n",
    "\\left(\\alpha^{(1)} d_{1}^{(1)} d_{2}^{(1)} + \\alpha^{(2)} d_{1}^{(2)} d_{2}^{(2)} \\right) e^{i\\varphi_{12}}e^{-i(\\gamma_1 + \\gamma_2)} \\sin{\\delta_1} \\sin{\\delta_2} \\right] |00\\rangle $$\n",
    "\n",
    "$$+\\left[ \\left(\\alpha^{(1)} + \\alpha^{(2)} \\right) e^{i(\\beta_1 + \\gamma_2)} \\cos{\\delta_1} \\sin{\\delta_2} + \n",
    "\\left(\\alpha^{(1)} d_{2}^{(1)} + \\alpha^{(2)} d_{2}^{(2)} \\right) e^{i(\\beta_1 - \\beta_2)} \\cos{\\delta_1} \\cos{\\delta_2}  \n",
    "-\\left(\\alpha^{(1)} d_{1}^{(1)} + \\alpha^{(2)} d_{1}^{(2)} \\right) e^{-i(\\gamma_1 -\\gamma_2)} \\sin{\\delta_1} \\sin{\\delta_2} \n",
    "-\\left(\\alpha^{(1)} d_{1}^{(1)} d_{2}^{(1)} + \\alpha^{(2)} d_{1}^{(2)} d_{2}^{(2)} \\right) e^{i\\varphi_{12}} e^{-i(\\gamma_1 + \\beta_2)} \\sin{\\delta_1} \\cos{\\delta_2} \\right] |01\\rangle $$\n",
    "\n",
    "$$+\\left[ \\left(\\alpha^{(1)} + \\alpha^{(2)} \\right) e^{i(\\gamma_1 + \\beta_2)} \\sin{\\delta_1} \\cos{\\delta_2} \n",
    "-\\left(\\alpha^{(1)} d_{2}^{(1)} + \\alpha^{(2)} d_{2}^{(2)} \\right) e^{i(\\gamma_1-\\gamma_2)} \\sin{\\delta_1} \\sin{\\delta_2}+ \n",
    "\\left(\\alpha^{(1)} d_{1}^{(1)} + \\alpha^{(2)} d_{1}^{(2)} \\right) e^{-i(\\beta_1 - \\beta_2)} \\cos{\\delta_1} \\cos{\\delta_2} \n",
    "-\\left(\\alpha^{(1)} d_{1}^{(1)} d_{2}^{(1)} + \\alpha^{(2)} d_{1}^{(2)} d_{2}^{(2)} \\right) e^{i\\varphi_{12}} e^{-i(\\beta_1 + \\gamma_2)} \\cos{\\delta_1} \\sin{\\delta_2}  \\right] |10\\rangle $$\n",
    "\n",
    "$$+\\left[ \\left(\\alpha^{(1)} + \\alpha^{(2)} \\right) e^{i(\\gamma_1 + \\gamma_2)} \\sin{\\delta_1} \\sin{\\delta_2} + \n",
    "\\left(\\alpha^{(1)} d_{2}^{(1)} + \\alpha^{(2)} d_{2}^{(2)} \\right) e^{i(\\gamma_1 - \\beta_2)} \\sin{\\delta_1} \\cos{\\delta_2} + \n",
    "\\left(\\alpha^{(1)} d_{1}^{(1)} + \\alpha^{(2)} d_{1}^{(2)} \\right) e^{-i(\\beta_1 -\\gamma_2)} \\cos{\\delta_1} \\sin{\\delta_2} + \n",
    "\\left(\\alpha^{(1)} d_{1}^{(1)} d_{2}^{(1)} + \\alpha^{(2)} d_{1}^{(2)} d_{2}^{(2)} \\right) e^{i\\varphi_{12}} e^{-i(\\beta_1 + \\beta_2)} \\cos{\\delta_1} \\cos{\\delta_2} \\right] |11\\rangle $$"
   ]
  },
  {
   "cell_type": "markdown",
   "id": "f96195d4-9430-4617-926b-195984edde22",
   "metadata": {
    "tags": []
   },
   "source": [
    "# <center> Code (SymPy approach)"
   ]
  },
  {
   "cell_type": "code",
   "execution_count": 1,
   "id": "eba032e1-f4aa-47a4-9aa2-015954bf5006",
   "metadata": {},
   "outputs": [],
   "source": [
    "import math\n",
    "import sympy as sp"
   ]
  },
  {
   "cell_type": "code",
   "execution_count": 2,
   "id": "ea966ae0-10c6-462b-8481-deac76747222",
   "metadata": {},
   "outputs": [],
   "source": [
    "from itertools import combinations\n",
    "from kron_vec_product import kron_vec_prod\n",
    "from sympy.simplify.fu import TR5 #Replace sin^2 with 1-cos^2"
   ]
  },
  {
   "cell_type": "markdown",
   "id": "fb77b768-77b1-41a0-ba5f-8f554e0b9663",
   "metadata": {},
   "source": [
    "## <center> Helpers."
   ]
  },
  {
   "cell_type": "markdown",
   "id": "54782215-f945-47e1-949d-9c6e03e7fe7d",
   "metadata": {},
   "source": [
    "### <center> EtaParameters class."
   ]
  },
  {
   "cell_type": "code",
   "execution_count": 3,
   "id": "fa328102-b56f-4be9-9b59-13b5b254c9c9",
   "metadata": {},
   "outputs": [],
   "source": [
    "class EtaParameters:\n",
    "    \"\"\"\n",
    "    EtaParameters class; used to initialize and manage different parameters of the variational state.\n",
    "    \n",
    "    The eta state, for a spin chain of 'N' sites, is defined as the application of the tensor product of 'N' unitary \n",
    "    operators, each acting on a different site, on a superposition of 'm' different |eta_j> states, all of which are \n",
    "    themselves the application of phase gates on a linear combination via deformation coefficients of the 2^N states \n",
    "    of 𝕊^N. \n",
    "    \n",
    "    Parameters\n",
    "    ----------\n",
    "    N : int\n",
    "        The number of spins in the chain.\n",
    "    m : int\n",
    "        The number of superposition states.\n",
    "    unitaries : bool, optional\n",
    "        If True, unitaries parameters are considered.\n",
    "    \n",
    "    Attributes\n",
    "    ----------\n",
    "    phases : list\n",
    "        A list with the (real) phase parameters as SymPy symbols, one for each gate. Total = N(N-1)/2\n",
    "    unitaries : list or None\n",
    "        A list with the (real) unitary parameters as SymPy symbols, three for each unitary operator. Total = 3N.\n",
    "        If unitaries is False, this is None.\n",
    "    deformation : list\n",
    "        A list with the (complex) deformation coefficients as SymPy symbols, N for each superposition. Total = mN\n",
    "    superposition : list\n",
    "        A list with the (complex) superposition coefficients as SymPy symbols, one for each superposition. Total = m\n",
    "    deformation_exp : list\n",
    "        A nested list with the modulus and argument of the deformation coefficients as SymPy symbols. Total = 2mN\n",
    "    superposition_exp : list\n",
    "        A nested list with the modulus and argument of the superposition coefficients as SymPy symbols. Total = 2m\n",
    "    \"\"\"\n",
    "    def __init__(self, N, m, unitaries = True):\n",
    "        self.phases = self.setPhases(N)\n",
    "        if unitaries:\n",
    "            self.unitaries = self.setUnitaries(N)\n",
    "        else:\n",
    "            self.unitaries = None\n",
    "        self.deformation = self.setDeformation(N, m)\n",
    "        self.superposition = self.setSuperposition(m)\n",
    "        self.deformation_exp = self.setDeformationExp(N, m)\n",
    "        self.superposition_exp = self.setSuperpositionExp(m)\n",
    "    \n",
    "    \n",
    "    def setPhases(self, N):\n",
    "        \"\"\"\n",
    "        Function to set the phases attribute.\n",
    "        \n",
    "        Parameters\n",
    "        ----------\n",
    "        N : int\n",
    "            The number of spins in the chain.\n",
    "\n",
    "        Returns\n",
    "        -------\n",
    "        phases_list : list\n",
    "            A list with phases as Sympy symbols. Phases are generated and stored as follows:\n",
    "            varphi_{1,2}, varphi_{1,3}, ..., varphi_{1,N}, varphi_{2,3}, ..., varphi_{N-1, N}\n",
    "        \"\"\"\n",
    "        # Set a list to store phases as SymPy symbols.\n",
    "        phases_list = []\n",
    "    \n",
    "        # Set a list containing the sites of the chain.\n",
    "        positions = [str(i + 1) for i in range(N)] # Ex: for N = 3, positions will store ['1', '2', '3']\n",
    "\n",
    "        # Get a list of tuples that contain every suitable pair of sites.\n",
    "        positions_combinations = list(combinations(positions, 2)) # Ex: N = 3 gives [('1', '2'), ('1', '3'), ('2', '3')]\n",
    "\n",
    "        # Generate and store phases.\n",
    "        for pair in positions_combinations:\n",
    "            idx = ','.join(pair) # Ex: for pair ('2', '3') this will give '2,3'\n",
    "            phase = sp.Symbol(r\"varphi_{}\".format(idx), real=True) # Ex: for pair ('2', '3') this will give \\varphi_{2,3}\n",
    "            phases_list.append(phase)\n",
    "        \n",
    "        return phases_list\n",
    "    \n",
    "    \n",
    "    def setUnitaries(self, N):\n",
    "        \"\"\"\n",
    "        Function to set the unitaries parameters.\n",
    "        \n",
    "        Parameters\n",
    "        ----------\n",
    "        N : int\n",
    "            The number of spins in the chain.\n",
    "\n",
    "        Returns\n",
    "        -------\n",
    "        unitaries_list : list\n",
    "            A list with unitaries parameters as Sympy symbols. Parameters are generated and stored as follows:\n",
    "            beta_{1}, gamma_{1}, delta_{1}, beta_{2}, gamma_{2}, delta_{2}, ...,beta_{N}, gamma_{N}, delta_{N}\n",
    "        \"\"\"\n",
    "        # Set a list to store parameters as SymPy symbols.\n",
    "        unitaries_list = []\n",
    "    \n",
    "        # Set a list containing the sites of the chain.\n",
    "        positions = [str(i + 1) for i in range(N)] # Ex: for N = 3, positions will store ['1', '2', '3']\n",
    "\n",
    "        # Generate and store parameters.\n",
    "        for site in positions:\n",
    "            beta = sp.Symbol(r\"beta_{}\".format(site), real=True)\n",
    "            gamma = sp.Symbol(r\"gamma_{}\".format(site), real=True)\n",
    "            delta = sp.Symbol(r\"delta_{}\".format(site), real=True)\n",
    "            unitaries_list.extend([beta, gamma, delta])\n",
    "        \n",
    "        return unitaries_list\n",
    "    \n",
    "    \n",
    "    def setDeformation(self, N, m):\n",
    "        \"\"\" \n",
    "        Function to set the deformation coefficients.\n",
    "        \n",
    "        Parameters\n",
    "        ----------\n",
    "        N : int\n",
    "            The number of spins in the chain.\n",
    "        m : int\n",
    "            The number of superposition states.\n",
    "\n",
    "        Returns\n",
    "        -------\n",
    "        deformation_list : list\n",
    "            A list with deformation coefficients as Sympy symbols. Coefficients are generated and stored as follows:\n",
    "            d_{1}^{(1)}, d_{1}^{(2)}, ..., d_{1}^{(m)}, d_{2}^{(1)}, d_{2}^{(2)}, ..., d_{N}^{(m)}\n",
    "        \"\"\"\n",
    "        # Set a list to store coefficients as SymPy symbols.\n",
    "        deformation_list = []\n",
    "    \n",
    "        # Set a list containing the sites of the chain.\n",
    "        positions = [str(i + 1) for i in range(N)] # Ex: for N = 3, positions will store ['1', '2', '3']\n",
    "\n",
    "        # Generate and store coefficients.\n",
    "        for site in positions:\n",
    "            for superposition in range(m):\n",
    "                d = sp.Symbol(r\"d_{}^({})\".format(site, superposition + 1))\n",
    "                deformation_list.append(d)\n",
    "        \n",
    "        return deformation_list\n",
    "    \n",
    "    \n",
    "    def setSuperposition(self, m):\n",
    "        \"\"\" \n",
    "        Function to set the superposition coefficients.\n",
    "        \n",
    "        Parameters\n",
    "        ----------\n",
    "        m : int\n",
    "            The number of superposition states.\n",
    "\n",
    "        Returns\n",
    "        -------\n",
    "        superposition_list : list\n",
    "            A list with superposition coefficients as Sympy symbols. Coefficients are generated and stored as follows:\n",
    "            alpha^{(1)}, alpha^{(2)}, ..., alpha^{(m)}\n",
    "        \"\"\"\n",
    "        # Set a list to store coefficients as SymPy symbols.\n",
    "        superposition_list = []\n",
    "\n",
    "        # Generate and store coefficients.\n",
    "        for superposition in range(m):\n",
    "            alpha = sp.Symbol(r\"alpha^({})\".format(superposition + 1))\n",
    "            superposition_list.append(alpha)\n",
    "        \n",
    "        return superposition_list\n",
    "    \n",
    "    \n",
    "    def setDeformationExp(self, N, m):\n",
    "        \"\"\" \n",
    "        Function to set the exponential form of the deformation coefficients.\n",
    "        Coefficients are generated via their exponential representation:\n",
    "        d_{a}^{(j)} = r_{a}^{(j)} exp(i theta_{a}^{(j)}) \n",
    "        \n",
    "        Parameters\n",
    "        ----------\n",
    "        N : int\n",
    "            The number of spins in the chain.\n",
    "        m : int\n",
    "            The number of superposition states.\n",
    "\n",
    "        Returns\n",
    "        -------\n",
    "        deformationexp_list : list\n",
    "            A nested list with deformation coefficients as Sympy symbols. Their modulus and argument are stored as follows:\n",
    "           [r_{1}^{(1)}, theta_{1}^{(1)}], [r_{1}^{(2)}, theta_{1}^{(2)}], ..., [r_{1}^{(m)}, theta_{1}^{(m)}], \n",
    "           [r_{2}^{(1)}, theta_{2}^{(1)}], [r_{2}^{(2)}, theta_{2}^{(2)}], ..., [r_{N}^{(m)}, theta_{N}^{(m)}]\n",
    "        \"\"\"\n",
    "        # Set a list to store parameters as SymPy symbols.\n",
    "        deformationexp_list = []\n",
    "    \n",
    "        # Set a list containing the sites of the chain.\n",
    "        positions = [str(i + 1) for i in range(N)] # Ex: for N = 3, positions will store ['1', '2', '3']\n",
    "\n",
    "        # Generate and store parameters.\n",
    "        for site in positions:\n",
    "            for superposition in range(m):\n",
    "                modulus = sp.Symbol(r\"r_{}^({})\".format(site, superposition + 1), real=True)\n",
    "                argument = sp.Symbol(r\"theta_{}^({})\".format(site, superposition + 1), real=True)\n",
    "                deformationexp_list.append([modulus, argument])\n",
    "        \n",
    "        return deformationexp_list\n",
    "    \n",
    "    \n",
    "    def setSuperpositionExp(self, m):\n",
    "        \"\"\" \n",
    "        Function to set the exponential form of the superposition coefficients.\n",
    "        Coefficients are generated via their exponential representation: \n",
    "        alpha^{(j)} = rho_{a}^{(j)} exp(i nu_{a}^{(j)})\n",
    "        \n",
    "        Parameters\n",
    "        ----------\n",
    "        m : int\n",
    "            The number of superposition states.\n",
    "\n",
    "        Returns\n",
    "        -------\n",
    "        superpositionexp_list : list\n",
    "            A nested list with superposition coefficients as Sympy symbols. Their modulus and argument are stored as follows:\n",
    "            [rho^{(1)}, nu^{(1)}], [rho^{(2)}, nu{(2)}], ..., [rho^{(m)}, nu^{(m)}]\n",
    "        \"\"\"\n",
    "        # Set a list to store parameters as SymPy symbols.\n",
    "        superpositionexp_list = []\n",
    "\n",
    "        # Generate and store parameters.\n",
    "        for superposition in range(m):\n",
    "            modulus = sp.Symbol(r\"rho^({})\".format(superposition + 1), real=True)\n",
    "            argument = sp.Symbol(r\"nu^({})\".format(superposition + 1), real=True)\n",
    "            superpositionexp_list.append([modulus, argument])\n",
    "        \n",
    "        return superpositionexp_list\n",
    "    \n",
    "    \n",
    "    def getParameters(self):\n",
    "        \"\"\" \n",
    "        Function to get all parameters.\n",
    "\n",
    "        Returns\n",
    "        -------\n",
    "        A list with all parameters.\n",
    "        For complex ones, parameters are their modulus and argument.\n",
    "        \"\"\"\n",
    "        # Get phases and unitaries' parameters.\n",
    "        p_list = self.phases\n",
    "        u_list = self.unitaries\n",
    "        \n",
    "        # Unnest deformation and superposition parameters.\n",
    "        d_list = [item for inner_list in self.deformation_exp for item in inner_list]\n",
    "        s_list = [item for inner_list in self.superposition_exp for item in inner_list]\n",
    "        \n",
    "        # Return one list\n",
    "        if u_list is None:\n",
    "            return [*p_list, *d_list, *s_list].copy()\n",
    "        return [*p_list, *u_list, *d_list, *s_list].copy()\n",
    "    \n",
    "    \n",
    "    def getExponentialForms(self, absolute = False):\n",
    "        \"\"\" \n",
    "        Function to get exponential forms of deformation and superposition coefficients.\n",
    "        \n",
    "        Parameters\n",
    "        ----------\n",
    "        absolute : bool\n",
    "            If True, then the moduli will be an absolute value. \n",
    "            This option is for minimization algorithms that don't accept bounds for search space.\n",
    "\n",
    "        Returns\n",
    "        -------\n",
    "        superpositionexp_list : list\n",
    "            A list with the deformation and superposition parameters, in that order, in their exponential form.\n",
    "        \"\"\"\n",
    "        if absolute:\n",
    "            def_list = [sp.Abs(inner_list[0]) * sp.exp(sp.I * inner_list[1]) for inner_list in self.deformation_exp]\n",
    "            sup_list = [sp.Abs(inner_list[0]) * sp.exp(sp.I * inner_list[1]) for inner_list in self.superposition_exp]\n",
    "        else:\n",
    "            def_list = [inner_list[0] * sp.exp(sp.I * inner_list[1]) for inner_list in self.deformation_exp]\n",
    "            sup_list = [inner_list[0] * sp.exp(sp.I * inner_list[1]) for inner_list in self.superposition_exp]\n",
    "\n",
    "        return def_list + sup_list"
   ]
  },
  {
   "cell_type": "markdown",
   "id": "994b194d-996d-4bb6-b1b5-29ad0d8f178a",
   "metadata": {},
   "source": [
    "### <center> bitset function."
   ]
  },
  {
   "cell_type": "code",
   "execution_count": 4,
   "id": "3a2ca4fb-1ffc-4933-83dc-c94e80a7eae0",
   "metadata": {
    "tags": []
   },
   "outputs": [],
   "source": [
    "def bitset(number, position, N):\n",
    "    \"\"\" \n",
    "    This function is to improve readability of later code.\n",
    "    Checks if the `position`-th bit from the left in the `N` bit binary representation\n",
    "    of `number` is set (i.e, if it's 1).\n",
    "    Example: For N = 4, 5 is 0101 in binary. So:\n",
    "             - bitset(5, 0, 4) is False, since -> [0]101\n",
    "             - bitset(5, 1, 4) is True,  since -> 0[1]01  \n",
    "             - bitset(5, 2, 4) is False, since -> 01[0]1\n",
    "             - bitset(5, 3, 4) is True,  since -> 010[1]\n",
    "    \n",
    "    Parameters\n",
    "    ----------\n",
    "    number : int\n",
    "        The number in question.\n",
    "    position : int\n",
    "        Position in `number`'s binary representation.\n",
    "        Leftmost bit is considered the 0th position.\n",
    "    N : int\n",
    "        Length of the binary representation of `number` to be considered.\n",
    "        \n",
    "    Returns\n",
    "    -------\n",
    "    True if `position`-th bit is set. False if it's not set.\n",
    "    \"\"\"\n",
    "    # To check if \"position\"-th bit of \"number\" is set, we AND it with 2^(N-1) rightshifted \"position\" times.\n",
    "    return bool(number & (2**(N-1) >> position))"
   ]
  },
  {
   "cell_type": "markdown",
   "id": "6ff5acd4-23ba-42f5-882b-9bb8223901a2",
   "metadata": {
    "tags": []
   },
   "source": [
    "### <center> flipbits function."
   ]
  },
  {
   "cell_type": "code",
   "execution_count": 5,
   "id": "f7b35bf1-593b-4865-bb04-b6257f85dcc6",
   "metadata": {},
   "outputs": [],
   "source": [
    "def flipbits(number, position, N):\n",
    "    \"\"\" \n",
    "    This function is to improve readability of later code.\n",
    "    Flips `position`-th and `position`+1-th bits from the left in the `N` bit binary \n",
    "    representation of `number`.\n",
    "    Example: For N = 4, 5 is 0101 in binary. So:\n",
    "             - flipbits(5, 0, 4) returns 9, since [01]01 goes to [10]01, which is 9.\n",
    "             - flipbits(5, 1, 4) returns 3, since 0[10]1 goes to 0[01]1, which is 3.  \n",
    "             - flipbits(5, 2, 4) returns 6, since 01[01] goes to 01[10], which is 6\n",
    "    \n",
    "    Parameters\n",
    "    ----------\n",
    "    number : int\n",
    "        The number in question.\n",
    "    position : int\n",
    "        Position in `number`'s binary representation.\n",
    "        Leftmost bit is considered the 0th position.\n",
    "    N : int \n",
    "        Length of the binary representation of `number` to be considered.\n",
    "        \n",
    "    Returns\n",
    "    -------\n",
    "    new_number : int \n",
    "        Integer that results from flipping the `position`-th and `position`+1-th bits from the left.\n",
    "    \"\"\"\n",
    "    # To flip the \"position\"-th bit of \"number\", we XOR it with 2^(N-1) rightshifted \"position\" times.\n",
    "    new_number = number ^ (2**(N-1) >> position)\n",
    "    # To flip the \"position\"+1-th bit of \"number\", we XOR it with 2^(N-1) rightshifted \"position\"+1 times.\n",
    "    new_number = new_number ^ (2**(N-1) >> (position+1))\n",
    "    \n",
    "    return new_number"
   ]
  },
  {
   "cell_type": "markdown",
   "id": "d3805cf0-1a2d-401a-938e-43142123eee7",
   "metadata": {},
   "source": [
    "### <center> flipendbits function."
   ]
  },
  {
   "cell_type": "code",
   "execution_count": 6,
   "id": "c8567b9e-ba47-4e32-b7f0-d7ce569ac15f",
   "metadata": {},
   "outputs": [],
   "source": [
    "def flipendbits(number, N):\n",
    "    \"\"\" \n",
    "    This function is to improve readability of later code.\n",
    "    Flips first and last bits in the `N` bit binary representation of `number`.\n",
    "    Example: For N = 4, 5 is 0101 in binary. So:\n",
    "             - flipendbits(5, 4) returns 12, since [0]10[1] goes to [1]10[0], which is 12.\n",
    "    \n",
    "    Parameters\n",
    "    ----------\n",
    "    number : int\n",
    "        The number in question.\n",
    "    N : int \n",
    "        Length of the binary representation of `number` to be considered.\n",
    "        \n",
    "    Returns\n",
    "    -------\n",
    "    new_number : int \n",
    "        Integer that results from flipping the first and last bits.\n",
    "    \"\"\"\n",
    "    \n",
    "    # To flip the first bit of \"number\", we XOR it with 2^(N-1).\n",
    "    new_number = number ^ 2**(N-1)\n",
    "    # To flip the last bit of \"number\", we XOR it with 1.\n",
    "    new_number = new_number ^ 1\n",
    "    return new_number"
   ]
  },
  {
   "cell_type": "markdown",
   "id": "5bc7267d-59e2-4f9c-a6d6-a0d867c3057b",
   "metadata": {},
   "source": [
    "### <center> collectlist function."
   ]
  },
  {
   "cell_type": "code",
   "execution_count": 7,
   "id": "80f9cc76-de50-47e3-945d-448da77a6d9a",
   "metadata": {},
   "outputs": [],
   "source": [
    "def collectlist(expression):\n",
    "    \"\"\" \n",
    "    This function is to improve readability of later code.\n",
    "    Returns a list of termwise unique cosine factors of a SymPy expression.\n",
    "    \n",
    "    Parameters\n",
    "    ----------\n",
    "    expression : SymPy expression\n",
    "        Expression from which termwise cosine factors are extracted.\n",
    "        \n",
    "    Returns\n",
    "    -------\n",
    "    factor_list : list\n",
    "        A list of termwise unique cosine factors.\n",
    "    \"\"\"\n",
    "    # Set lists for the factors themselves and for the \"length\" (how many cosine functions) of the factors.\n",
    "    cosfactors = []\n",
    "    cosfactorslength = []\n",
    "    \n",
    "    # Main loop. Check factors for each term.\n",
    "    for term in expression.args:\n",
    "        # Set new expression to 1.\n",
    "        temp_expr = sp.Integer(1)\n",
    "        # Add any cosine factors to new expression.\n",
    "        for factor in term.args:\n",
    "            if type(factor) == sp.cos:\n",
    "                temp_expr *= factor\n",
    "    \n",
    "        # If new expression not on the list, add it and it's length to their respective lists.\n",
    "        if temp_expr in cosfactors:\n",
    "            pass\n",
    "        else:\n",
    "            cosfactors.append(temp_expr)\n",
    "            cosfactorslength.append(len(temp_expr.args))\n",
    "    \n",
    "    # Set new list where cosine factors are sorted decreasingly by their length.\n",
    "    collectionlist = [factor for length, factor in sorted(zip(cosfactorslength, cosfactors), \n",
    "                                                          key=lambda pair: pair[0], reverse=True)]\n",
    "    \n",
    "    # Return new list.\n",
    "    return collectionlist"
   ]
  },
  {
   "cell_type": "markdown",
   "id": "6302d073-9f77-4ed3-9f7b-e1e4ca0ed246",
   "metadata": {
    "tags": []
   },
   "source": [
    "## <center> $| \\eta \\rangle$\n",
    "    \n",
    "<center> This function implements $| \\eta \\rangle$"
   ]
  },
  {
   "cell_type": "code",
   "execution_count": 8,
   "id": "bc576c1f-bdfc-4517-9b2c-3e728c5adb39",
   "metadata": {},
   "outputs": [],
   "source": [
    "def eta_vector(N, m = 1, unitaries = True):\n",
    "    \"\"\" \n",
    "    This function implements the variational state.\n",
    "    \n",
    "    Parameters\n",
    "    ----------\n",
    "    N : int\n",
    "        The number of spins in the chain.\n",
    "    m : int, optional\n",
    "        The number of superposition states. Default is 1.\n",
    "    unitaries : bool, optional\n",
    "        If True, unitaries are applied when constructing the variational state. Default is True.\n",
    "        \n",
    "    Returns\n",
    "    -------\n",
    "    eta_list : list \n",
    "        List for |eta⟩. Indices represent basis vectors, elements are their coefficients as SymPy expressions.\n",
    "    parameters : EtaParameters\n",
    "        Instance of EtaParameters class for parameters associated with `eta_list`.\n",
    "    \"\"\"\n",
    "    \n",
    "    # Set coefficients of |eta⟩ to 0.\n",
    "    eta_list = [sp.Integer(0) for _ in range(2**N)]\n",
    "    \n",
    "    # Initialize parameters.\n",
    "    parameters = EtaParameters(N, m, unitaries)\n",
    "    \n",
    "    # Set superposition, deformation and phase gates.\n",
    "    for vector in range(2**N):\n",
    "        ### Get sites for which spin is in state |1⟩. Ex: for |010110⟩ the \"ones\" array will be [2, 4, 5]\n",
    "        # Note on format; f'0{N}b' means to format the number (vector) as a binary string of length N\n",
    "        # and use 0's for padding if necessary.\n",
    "        ones = [site for site, digit in enumerate(format(vector, f'0{N}b'), start=1) if digit == '1']\n",
    "        \n",
    "        ### Superposition and deformation.\n",
    "        # We want to set sum_j alpha^{j} prod_ones d_{ones}^{j}\n",
    "        for superposition_idx in range(m):\n",
    "            # Set superposition coefficient.\n",
    "            temp_coefficient = parameters.superposition[superposition_idx]\n",
    "            \n",
    "            # For each spin in state |1⟩, multiply by deformation coefficient.\n",
    "            for site in ones:\n",
    "                # Get deformation coefficient for site and current superposition index\n",
    "                d_idx = superposition_idx + m*(site - 1)\n",
    "                d = parameters.deformation[d_idx]\n",
    "                temp_coefficient *= d\n",
    "            \n",
    "            # Add to vector coefficient\n",
    "            eta_list[vector] += temp_coefficient\n",
    "            \n",
    "        ### Phase gates.\n",
    "        # Get suitable pairs of sites.\n",
    "        # Ex: [2, 4, 5] gives [(2, 4), (2, 5), (4, 5)]\n",
    "        site_combinations = list(combinations(ones, 2))\n",
    "\n",
    "        # Set phase to be zero.\n",
    "        phase = sp.Integer(0)\n",
    "\n",
    "        # For every pair, add corresponding phase to the phase variable.\n",
    "        for pair in site_combinations:\n",
    "            # Get index for corresponding phase.\n",
    "            counter, offset = 1, 0\n",
    "            for step in range(pair[0] - 1):\n",
    "                offset += (N - counter)\n",
    "                counter += 1\n",
    "\n",
    "            phase_idx = offset + (pair[1] - pair[0] - 1)\n",
    "\n",
    "            # Add phase to the phase variable.\n",
    "            phase += parameters.phases[phase_idx]\n",
    "            \n",
    "\n",
    "        # Multiply vector coefficient by exp[i(sum of phases)].\n",
    "        eta_list[vector] *= sp.exp(sp.I * phase)\n",
    "            \n",
    "    \n",
    "    ### Unitaries.\n",
    "    if unitaries:\n",
    "        # Set list to store matrices.\n",
    "        unitaries_list = []\n",
    "\n",
    "        # Set matrices and store them.\n",
    "        for site in range(N):\n",
    "            # Get beta, gamma and delta parameters.\n",
    "            beta = parameters.unitaries[3*site]\n",
    "            gamma = parameters.unitaries[3*site + 1]\n",
    "            delta = parameters.unitaries[3*site + 2]\n",
    "\n",
    "            # Set matrix elements.\n",
    "            u11 = sp.exp(sp.I * beta) * sp.cos(delta)\n",
    "            u12 = -sp.exp(-sp.I * gamma) * sp.sin(delta)\n",
    "            #u21 = sp.exp(sp.I * gamma) * sp.sin(delta)\n",
    "            #u22 = sp.exp(-sp.I * beta) * sp.cos(delta)\n",
    "            u21 = -sp.conjugate(u12)\n",
    "            u22 = sp.conjugate(u11)\n",
    "            \n",
    "            # Add matrix to list.\n",
    "            unitaries_list.append(np.array([u11, u12, u21, u22]).reshape(2, 2))\n",
    "\n",
    "        # Calculate tensor product times |eta⟩.\n",
    "        eta_list = kron_vec_prod(unitaries_list, np.array(eta_list))\n",
    "    \n",
    "    return eta_list, parameters"
   ]
  },
  {
   "cell_type": "markdown",
   "id": "61478a2a-ed3a-41c8-9fce-426dbac6bc81",
   "metadata": {},
   "source": [
    "## <center> Hamiltonians"
   ]
  },
  {
   "cell_type": "markdown",
   "id": "2c935791-b035-4184-8749-a4dcb621dd34",
   "metadata": {},
   "source": [
    "### <center> XX Model\n",
    "\n",
    "<center> 1D spin-1/2 XX model ⟹ $H_{xx} = -\\frac{J}{8} \\sum_{i} \\left[ \\sigma_{i}^{(+)} \\sigma_{i+1}^{(-)} + \\sigma_{i}^{(-)} \\sigma_{i+1}^{(+)}\\right]$\n",
    "\n",
    "&nbsp;\n",
    "<center> This function implements $\\sum_{i} \\left[ \\sigma_{i}^{(+)} \\sigma_{i+1}^{(-)} + \\sigma_{i}^{(-)} \\sigma_{i+1}^{(+)}\\right] | \\eta \\rangle$"
   ]
  },
  {
   "cell_type": "code",
   "execution_count": 9,
   "id": "d4dc0538-86f9-44bd-91c2-735d536ed8bf",
   "metadata": {},
   "outputs": [],
   "source": [
    "def H_xx(eta_list, closed = True):\n",
    "    \"\"\" \n",
    "    This function implements H|eta⟩, for the XX Hamiltonian, without the -J/8 factor.\n",
    "    \n",
    "    Parameters\n",
    "    ----------\n",
    "    eta_list : list \n",
    "        List for |eta⟩. Indices represent basis vectors, elements are their coefficients as SymPy expressions.\n",
    "    closed : bool, optional\n",
    "        If True then the spin chain has periodic boundary conditions (closed chain). Default is True.\n",
    "        \n",
    "    Returns\n",
    "    -------\n",
    "    Heta_list : list\n",
    "        List for H|eta⟩. Indices represent basis vectors, elements are their coefficient as SymPy expressions.\n",
    "        (!)Does not include the -J/8 factor from the Hamiltonian.\n",
    "    \"\"\"\n",
    "    # Get number of spins in chain.\n",
    "    N = len(eta_list).bit_length() - 1\n",
    "    \n",
    "    # Set list for H|eta⟩ with zeros.\n",
    "    Heta_list = [sp.Integer(0) for _ in range(2**N)]\n",
    "    \n",
    "    ### Loop for open chain terms.\n",
    "    # Apply the (open chain terms) Hamiltonian to each basis vector, individually, and store results in Heta_list.\n",
    "    for vector, coefficient in enumerate(eta_list):        \n",
    "        \n",
    "        # This for loop goes from site = 0 to site = N-2. For the expression of H_{xy}, i = site + 1.\n",
    "        for site in range(0, N-1):            \n",
    "            # Application of terms in the Hamiltonian to basis vectors will be null, unless neighbouring sites\n",
    "            # are in different states.\n",
    "            if bitset(vector, site, N) != bitset(vector, site + 1, N):                \n",
    "                # sigma_{i}^(+) sigma_{i+1}^(-) |state⟩ is null, unless |state⟩ ~ |1⟩_{i} |0⟩_{i+1}. In that case:\n",
    "                # sigma_{i}^(+) sigma_{i+1}^(-) |1⟩_{i} |0⟩_{i+1} = 4 |0⟩_{i} |1⟩_{i+1}.\n",
    "                    \n",
    "                # sigma_{i}^(-) sigma_{i+1}^(+) |state⟩ is null, unless |state⟩ ~ |0⟩_{i} |1⟩_{i+1}. In that case:\n",
    "                # sigma_{i}^(-) sigma_{i+1}^(+) |0⟩_{i} |1⟩_{i+1} = 4 |1⟩_{i} |0⟩_{i+1}.\n",
    "                \n",
    "                # Since the flipbits function flips bits no matter what, and both of these operators give the same\n",
    "                # result in terms of the coefficient, we don't need to differentiate between them.\n",
    "                # We just get the resulting vector and multiply the coefficient by 4\n",
    "                new_vector = flipbits(vector, site, N)\n",
    "                new_coefficient = 4*coefficient\n",
    "                \n",
    "                # Add calculated coefficient to list.\n",
    "                Heta_list[new_vector] += new_coefficient\n",
    "            \n",
    "    ### Loop for closed chain terms, if necessary.\n",
    "    # Apply sigma_{N}^(+) sigma_{1}^(-) and sigma_{N}^(-) sigma_{1}^(+) to |eta⟩.\n",
    "    if closed:\n",
    "        # Apply the (open chain terms) Hamiltonian to each basis vector, individually, and store results in Heta_list.\n",
    "        for vector, coefficient in enumerate(eta_list):\n",
    "            # Check if sites are in different states.\n",
    "            if bitset(vector, N-1, N) != bitset(vector, 0, N):\n",
    "                # Flip bits and multiply coefficient by 4.\n",
    "                new_vector = flipendbits(vector, N)\n",
    "                new_coefficient = 4*coefficient\n",
    "                \n",
    "                # Add calculated coefficient to list.\n",
    "                Heta_list[new_vector] += new_coefficient\n",
    "                \n",
    "    return Heta_list"
   ]
  },
  {
   "cell_type": "markdown",
   "id": "41fe1d4b-cac9-45fd-a86b-985bebeadb8f",
   "metadata": {},
   "source": [
    "### <center> Heisenberg Model\n",
    "\n",
    "<center> 1D spin-1/2 Heisenberg model ⟹ $H_{Heisenberg} = -\\frac{J}{8} \\sum_{i} \\left[ \\sigma_{i}^{(+)} \\sigma_{i+1}^{(-)} + \\sigma_{i}^{(-)} \\sigma_{i+1}^{(+)} + \\sigma_{i}^{(z)} \\sigma_{i+1}^{(z)} \\right]$\n",
    "\n",
    "&nbsp;\n",
    "<center> This function implements $\\sum_{i} \\left[ \\sigma_{i}^{(+)} \\sigma_{i+1}^{(-)} + \\sigma_{i}^{(-)} \\sigma_{i+1}^{(+)} + \\sigma_{i}^{(z)} \\sigma_{i+1}^{(z)} \\right] | \\eta \\rangle$"
   ]
  },
  {
   "cell_type": "code",
   "execution_count": 10,
   "id": "2561ada5-329d-41a4-bf4c-a0292f460f53",
   "metadata": {},
   "outputs": [],
   "source": [
    "def H_heisenberg(eta_list, closed = True):\n",
    "    \"\"\" \n",
    "    This function implements H|eta⟩, for the Heisenberg Hamiltonian, without the -J/8 factor.\n",
    "    \n",
    "    Parameters\n",
    "    ----------\n",
    "    eta_list : list \n",
    "        List for |eta⟩. Indices represent basis vectors, elements are their coefficients as SymPy expressions.\n",
    "    closed : bool, optional\n",
    "        If True then the spin chain has periodic boundary conditions (closed chain). Default is True.\n",
    "        \n",
    "    Returns\n",
    "    -------\n",
    "    Heta_list : list\n",
    "        List for H|eta⟩. Indices represent basis vectors, elements are their coefficient as SymPy expressions.\n",
    "        (!)Does not include the -J/8 factor from the Hamiltonian.\n",
    "    \"\"\"\n",
    "    # Get number of spins in chain.\n",
    "    N = len(eta_list).bit_length() - 1\n",
    "\n",
    "    # Set list for H|Gamma⟩ with H_xx call.\n",
    "    Heta_list = H_xx(eta_list, closed)\n",
    "\n",
    "    ### Loop for remaining open chain terms.\n",
    "    # Apply the remaining terms of the Hamiltonian to each basis vector, individually, and store results in Heta_list.\n",
    "    for vector, coefficient in enumerate(eta_list):\n",
    "        # This for loop goes from 0 to N-2. For the expression of H_{chain}, site = i-1.\n",
    "        for site in range(0, N-1):\n",
    "            # Remaining terms in the Hamiltonian will act as twice the identity if neighbouring sites are in the same state,\n",
    "            # and as twice the negative identity if neighbouring sites are in different states.\n",
    "            if bitset(vector, site, N) != bitset(vector, site + 1, N):\n",
    "                # sigma_{i}^(z) sigma_{i+1}^(z) |1⟩_{i} |0⟩_{i+1} = - |1⟩_{i} |0⟩_{i+1}.\n",
    "                # sigma_{i}^(z) sigma_{i+1}^(z) |0⟩_{i} |1⟩_{i+1} = - |0⟩_{i} |1⟩_{i+1}\n",
    "                Heta_list[vector] -= 2 * coefficient\n",
    "\n",
    "            else:\n",
    "                # sigma_{i}^(z) sigma_{i+1}^(z) |1⟩_{i} |1⟩_{i+1} = |1⟩_{i} |1⟩_{i+1}.\n",
    "                # sigma_{i}^(z) sigma_{i+1}^(z) |0⟩_{i} |0⟩_{i+1} = |0⟩_{i} |0⟩_{i+1}\n",
    "                Heta_list[vector] += 2 * coefficient\n",
    "\n",
    "    ### Loop for remaining closed chain terms, if necessary.\n",
    "    # Apply sigma_{N}^(z) sigma_{1}^(z) to |eta⟩.\n",
    "    if closed:\n",
    "        for vector, coefficient in enumerate(eta_list):\n",
    "\n",
    "            if bitset(vector, N-1, N) != bitset(vector, 0, N):\n",
    "                Heta_list[vector] -= 2 * coefficient\n",
    "            else:\n",
    "                Heta_list[vector] += 2 * coefficient\n",
    "\n",
    "    return Hgamma_dict"
   ]
  },
  {
   "cell_type": "markdown",
   "id": "8587e5be-f11b-4301-a804-6027d53de026",
   "metadata": {},
   "source": [
    "### <center> Ising Model\n",
    "\n",
    "<center> 1D spin-1/2 Ising model ⟹ $H_{Ising} = -\\frac{J}{8}\\sum_{i} \\frac{1}{2} \\left[\\sigma_{i}^{(+)} \\sigma_{i+1}^{(+)} + \\sigma_{i}^{(+)} \\sigma_{i+1}^{(-)} + \\sigma_{i}^{(-)} \\sigma_{i+1}^{(+)} + \\sigma_{i}^{(-)} \\sigma_{i+1}^{(-)}\\right]$\n",
    "\n",
    "&nbsp;\n",
    "<center> This function implements $\\sum_{i} \\frac{1}{2} \\left[\\sigma_{i}^{(+)} \\sigma_{i+1}^{(+)} + \\sigma_{i}^{(+)} \\sigma_{i+1}^{(-)} + \\sigma_{i}^{(-)} \\sigma_{i+1}^{(+)} + \\sigma_{i}^{(-)} \\sigma_{i+1}^{(-)}\\right] | \\eta \\rangle$"
   ]
  },
  {
   "cell_type": "code",
   "execution_count": 10,
   "id": "f3db0c04-a0fc-437b-bdd9-c97fa0cfdc03",
   "metadata": {},
   "outputs": [],
   "source": [
    "def H_ising(eta_list, closed = True):\n",
    "    \"\"\" \n",
    "    This function implements H|eta⟩, for the Ising Hamiltonian, without the -J/8 factor.\n",
    "    \n",
    "    Parameters\n",
    "    ----------\n",
    "    eta_list : list \n",
    "        List for |eta⟩. Indices represent basis vectors, elements are their coefficients as SymPy expressions.\n",
    "    closed : bool, optional\n",
    "        If True then the spin chain has periodic boundary conditions (closed chain). Default is True.\n",
    "        \n",
    "    Returns\n",
    "    -------\n",
    "    Heta_list : list\n",
    "        List for H|eta⟩. Indices represent basis vectors, elements are their coefficient as SymPy expressions.\n",
    "        (!)Does not include the -J/8 factor from the Hamiltonian.\n",
    "    \"\"\"\n",
    "    # Get number of spins in chain.\n",
    "    N = len(eta_list).bit_length() - 1\n",
    "    \n",
    "    # Set list for H|eta⟩ with zeros.\n",
    "    Heta_list = [sp.Integer(0) for _ in range(2**N)]\n",
    "    \n",
    "    ### Loop for open chain terms.\n",
    "    # Apply the (open chain terms) Hamiltonian to each basis vector, individually, and store results in Heta_list.\n",
    "    for vector, coefficient in enumerate(eta_list):        \n",
    "        \n",
    "        # This for loop goes from site = 0 to site = N-2. For the expression of H_{ising}, i = site + 1.\n",
    "        for site in range(0, N-1):            \n",
    "            # Application of terms in the Hamiltonian to basis vectors will never be null. Moreover, given the\n",
    "            # expression for the Ising Hamiltonian, for each vector, and for each site, one, and only one, of the\n",
    "            # sigma combinations will act.\n",
    "            # The result will always be to multiply the coefficient by 4 and flip neighbouring bits.\n",
    "            # But, since we have a 1/2 factor, we just multiply by 2.\n",
    "            new_vector = flipbits(vector, site, N)\n",
    "            new_coefficient = 2*coefficient\n",
    "\n",
    "            # Add calculated coefficient to list.\n",
    "            Heta_list[new_vector] += new_coefficient\n",
    "            \n",
    "    ### Loop for closed chain terms, if necessary.\n",
    "    if closed:\n",
    "        # Apply the (open chain terms) Hamiltonian to each basis vector, individually, and store results in Heta_list.\n",
    "        for vector, coefficient in enumerate(eta_list):\n",
    "            # Flip bits and multiply coefficient by 2.\n",
    "            new_vector = flipendbits(vector, N)\n",
    "            new_coefficient = 2*coefficient\n",
    "\n",
    "            # Add calculated coefficient to list.\n",
    "            Heta_list[new_vector] += new_coefficient\n",
    "                \n",
    "    return Heta_list"
   ]
  },
  {
   "cell_type": "markdown",
   "id": "d67a4198-ec7d-488c-a853-f1dfdba5bd84",
   "metadata": {},
   "source": [
    "## <center> Expectation Value\n",
    "\n",
    "<center> This function implements $\\dfrac{\\langle \\eta | H | \\eta \\rangle}{\\langle \\eta | \\eta \\rangle}$"
   ]
  },
  {
   "cell_type": "code",
   "execution_count": 11,
   "id": "5c3f23d0-6184-483a-938c-7eb54d3f42a6",
   "metadata": {},
   "outputs": [],
   "source": [
    "def expectation_value(eta_list, Heta_list, params, J_sign = 1, absolute = False):\n",
    "    \"\"\"\n",
    "    This function implements the expectation value calculation.\n",
    "    \n",
    "    Parameters\n",
    "    ----------\n",
    "    eta_list : list \n",
    "        List for |eta⟩. Indices represent basis vectors, elements are their coefficients as SymPy expressions.\n",
    "    Heta_list : list\n",
    "        List for H|eta⟩. Indices represent basis vectors. Elements represent their coefficient.\n",
    "        (!)Must not include the -J/8 factor from the Hamiltonian.\n",
    "    params : EtaParameters\n",
    "        Instance of EtaParameters class for parameters associated with `eta_list`.\n",
    "    J_sign : int, optional\n",
    "        Either 1 or -1, for ferromagnetic and antiferromagnetic chain, respectively. Default is 1.\n",
    "    absolute : bool, optional\n",
    "        If True, then the absolute value of the modulus will be taken for complex parameters. This option is for \n",
    "        minimization algorithms that don't accept bounds for search space. Default is False.\n",
    "        \n",
    "    Returns\n",
    "    -------\n",
    "    exp_val : SymPy expression\n",
    "        expectation value as SymPy expression.            \n",
    "    \"\"\"\n",
    "\n",
    "    # Set modulus squared and <eta|H|eta> as zero.\n",
    "    modulus = sp.Integer(0)\n",
    "    exp_val = sp.Integer(0)\n",
    "\n",
    "    # For each basis vector, add inner product result to each of these.\n",
    "    for vector, coefficient in enumerate(eta_list):\n",
    "        modulus += sp.conjugate(coefficient) * coefficient\n",
    "        exp_val += sp.conjugate(coefficient) * Heta_list[vector]\n",
    "    \n",
    "    ### Simplifly SymPy expressions.\n",
    "    # Get rid of brackets.\n",
    "    modulus = modulus.expand()\n",
    "    exp_val = exp_val.expand()\n",
    "\n",
    "    # Replace sin^2 with 1 - cos^2\n",
    "    modulus = TR5(modulus).expand()\n",
    "    exp_val = TR5(exp_val).expand()\n",
    "    \n",
    "    # Replace superposition and deformation coefficients with their exponential forms.    \n",
    "    replacements = list(zip(params.deformation + params.superposition, params.getExponentialForms(absolute)))\n",
    "    modulus = modulus.subs(replacements)\n",
    "    exp_val = exp_val.subs(replacements)\n",
    "    \n",
    "    # Collect exponents using power rules.\n",
    "    modulus = modulus.powsimp()\n",
    "    exp_val = exp_val.powsimp()\n",
    "\n",
    "    # Rewrite expression in terms of cosine functions.\n",
    "    modulus = modulus.rewrite(sp.cos).expand()\n",
    "    exp_val = exp_val.rewrite(sp.cos).expand()\n",
    "\n",
    "    # Add mising -1/8 factor and naive collect of cosine factors.\n",
    "    exp_val = -1*exp_val*J_sign/8\n",
    "    modulus = sp.collect(modulus, collectlist(modulus))\n",
    "    exp_val = sp.collect(exp_val, collectlist(exp_val))\n",
    "    \n",
    "    # Return expectation value.\n",
    "    return exp_val/modulus"
   ]
  },
  {
   "cell_type": "markdown",
   "id": "a46beb27-3530-46f8-a4ef-3ab80f9d4173",
   "metadata": {},
   "source": [
    "## <center> Sympy to Functions"
   ]
  },
  {
   "cell_type": "code",
   "execution_count": 12,
   "id": "9d140b60-c72a-47dd-98da-8a05391b95bb",
   "metadata": {},
   "outputs": [],
   "source": [
    "def exp_val_funcs(exp_val, parameters, gradient_needed = True):    \n",
    "    \"\"\"\n",
    "    Get functions from expectation value's SymPy expression\n",
    "    \n",
    "    Parameters\n",
    "    ----------\n",
    "    exp_val : SymPy expression\n",
    "        expectation value as SymPy expression. \n",
    "    parameters : EtaParameters\n",
    "        Instance of EtaParameters class for parameters associated with `exp_val`.\n",
    "    gradient_needed : bool, optional \n",
    "        If True, gradient funcion is returned as well. Default is True.\n",
    "        \n",
    "    Return:\n",
    "    ev_fn : callable\n",
    "        Expectation value as function, with array-like input for parameter values.\n",
    "    grad_fn : callable\n",
    "        Gradient as function, with array-like input for parameter values. \n",
    "        Only if gradient_needed = True.\n",
    "    \"\"\"\n",
    "    \n",
    "    # Get parameters list.\n",
    "    params_list = parameters.getParameters()\n",
    "    \n",
    "    # Lambdify expectation value.\n",
    "    ev_tomin = sp.lambdify(params_list, exp_val)\n",
    "\n",
    "    # Lambda function for recieving vector inputs. Evaluation of expectation value.\n",
    "    ev_fn = lambda vec: ev_tomin(*vec)\n",
    "    \n",
    "    if gradient_needed:\n",
    "        # Gradient as a list of SymPy expressions. \n",
    "        # This generates a list with partial derivatives of the expectation value with respect to the parameters.\n",
    "        # Reminder, parameters are stored as phases, unitaries, deformation, superposition.\n",
    "        gradient = [exp_val.diff(parameter) for parameter in params_list]\n",
    "        \n",
    "        # Lambdify each element individually.\n",
    "        gradient_tomin = [sp.lambdify(params_list, derivative) for derivative in gradient]\n",
    "\n",
    "        # Lambda function for recieving vector inputs. Evaluation of the gradient.\n",
    "        grad_fn = lambda vect: np.array([derivative_fn(*vect) for derivative_fn in gradient_tomin])\n",
    "        \n",
    "        return ev_fn, grad_fn\n",
    "    \n",
    "    else:\n",
    "        return ev_fn, None"
   ]
  },
  {
   "cell_type": "markdown",
   "id": "ff54b094-3cdb-4126-8eec-6f8f4c86d4f8",
   "metadata": {},
   "source": [
    "# <center> Example"
   ]
  },
  {
   "cell_type": "code",
   "execution_count": 13,
   "id": "32c12fa2-b015-402c-a50f-6044da80adef",
   "metadata": {},
   "outputs": [
    {
     "name": "stdout",
     "output_type": "stream",
     "text": [
      "Minimum found: -0.7499999959531324\n",
      "Values for parameters:\n"
     ]
    },
    {
     "data": {
      "text/latex": [
       "$\\displaystyle \\varphi_{1,2} = 0.000155232920399972$"
      ],
      "text/plain": [
       "Eq(varphi_1,2, 0.000155232920399972)"
      ]
     },
     "metadata": {},
     "output_type": "display_data"
    },
    {
     "data": {
      "text/latex": [
       "$\\displaystyle \\varphi_{1,3} = 5.94588087776167 \\cdot 10^{-5}$"
      ],
      "text/plain": [
       "Eq(varphi_1,3, 5.94588087776167e-5)"
      ]
     },
     "metadata": {},
     "output_type": "display_data"
    },
    {
     "data": {
      "text/latex": [
       "$\\displaystyle \\varphi_{1,4} = 12.5663087948986$"
      ],
      "text/plain": [
       "Eq(varphi_1,4, 12.5663087948986)"
      ]
     },
     "metadata": {},
     "output_type": "display_data"
    },
    {
     "data": {
      "text/latex": [
       "$\\displaystyle \\varphi_{1,5} = 12.5665278104056$"
      ],
      "text/plain": [
       "Eq(varphi_1,5, 12.5665278104056)"
      ]
     },
     "metadata": {},
     "output_type": "display_data"
    },
    {
     "data": {
      "text/latex": [
       "$\\displaystyle \\varphi_{2,3} = 6.28303060773164$"
      ],
      "text/plain": [
       "Eq(varphi_2,3, 6.28303060773164)"
      ]
     },
     "metadata": {},
     "output_type": "display_data"
    },
    {
     "data": {
      "text/latex": [
       "$\\displaystyle \\varphi_{2,4} = 6.28327712396454$"
      ],
      "text/plain": [
       "Eq(varphi_2,4, 6.28327712396454)"
      ]
     },
     "metadata": {},
     "output_type": "display_data"
    },
    {
     "data": {
      "text/latex": [
       "$\\displaystyle \\varphi_{2,5} = 3.67961265661801 \\cdot 10^{-5}$"
      ],
      "text/plain": [
       "Eq(varphi_2,5, 3.67961265661801e-5)"
      ]
     },
     "metadata": {},
     "output_type": "display_data"
    },
    {
     "data": {
      "text/latex": [
       "$\\displaystyle \\varphi_{3,4} = 19.9913178157558$"
      ],
      "text/plain": [
       "Eq(varphi_3,4, 19.9913178157558)"
      ]
     },
     "metadata": {},
     "output_type": "display_data"
    },
    {
     "data": {
      "text/latex": [
       "$\\displaystyle \\varphi_{3,5} = 12.566339945457$"
      ],
      "text/plain": [
       "Eq(varphi_3,5, 12.566339945457)"
      ]
     },
     "metadata": {},
     "output_type": "display_data"
    },
    {
     "data": {
      "text/latex": [
       "$\\displaystyle \\varphi_{4,5} = 12.5663432672097$"
      ],
      "text/plain": [
       "Eq(varphi_4,5, 12.5663432672097)"
      ]
     },
     "metadata": {},
     "output_type": "display_data"
    },
    {
     "data": {
      "text/latex": [
       "$\\displaystyle r^{(1)}_{1} = 1.00000165142529$"
      ],
      "text/plain": [
       "Eq(r_1^(1), 1.00000165142529)"
      ]
     },
     "metadata": {},
     "output_type": "display_data"
    },
    {
     "data": {
      "text/latex": [
       "$\\displaystyle \\theta^{(1)}_{1} = 15.7078155439543$"
      ],
      "text/plain": [
       "Eq(theta_1^(1), 15.7078155439543)"
      ]
     },
     "metadata": {},
     "output_type": "display_data"
    },
    {
     "data": {
      "text/latex": [
       "$\\displaystyle r^{(1)}_{2} = 1.00004918080165$"
      ],
      "text/plain": [
       "Eq(r_2^(1), 1.00004918080165)"
      ]
     },
     "metadata": {},
     "output_type": "display_data"
    },
    {
     "data": {
      "text/latex": [
       "$\\displaystyle \\theta^{(1)}_{2} = 6.28304340519198$"
      ],
      "text/plain": [
       "Eq(theta_2^(1), 6.28304340519198)"
      ]
     },
     "metadata": {},
     "output_type": "display_data"
    },
    {
     "data": {
      "text/latex": [
       "$\\displaystyle r^{(1)}_{3} = 0.982677047054231$"
      ],
      "text/plain": [
       "Eq(r_3^(1), 0.982677047054231)"
      ]
     },
     "metadata": {},
     "output_type": "display_data"
    },
    {
     "data": {
      "text/latex": [
       "$\\displaystyle \\theta^{(1)}_{3} = 19.9966857965481$"
      ],
      "text/plain": [
       "Eq(theta_3^(1), 19.9966857965481)"
      ]
     },
     "metadata": {},
     "output_type": "display_data"
    },
    {
     "data": {
      "text/latex": [
       "$\\displaystyle r^{(1)}_{4} = 2.03068076787603$"
      ],
      "text/plain": [
       "Eq(r_4^(1), 2.03068076787603)"
      ]
     },
     "metadata": {},
     "output_type": "display_data"
    },
    {
     "data": {
      "text/latex": [
       "$\\displaystyle \\theta^{(1)}_{4} = 15.1506854699795$"
      ],
      "text/plain": [
       "Eq(theta_4^(1), 15.1506854699795)"
      ]
     },
     "metadata": {},
     "output_type": "display_data"
    },
    {
     "data": {
      "text/latex": [
       "$\\displaystyle r^{(1)}_{5} = 1.00000113439568$"
      ],
      "text/plain": [
       "Eq(r_5^(1), 1.00000113439568)"
      ]
     },
     "metadata": {},
     "output_type": "display_data"
    },
    {
     "data": {
      "text/latex": [
       "$\\displaystyle \\theta^{(1)}_{5} = 6.28310552944904$"
      ],
      "text/plain": [
       "Eq(theta_5^(1), 6.28310552944904)"
      ]
     },
     "metadata": {},
     "output_type": "display_data"
    },
    {
     "data": {
      "text/latex": [
       "$\\displaystyle \\rho^{(1)} = 9.82481128853593$"
      ],
      "text/plain": [
       "Eq(rho^(1), 9.82481128853593)"
      ]
     },
     "metadata": {},
     "output_type": "display_data"
    },
    {
     "data": {
      "text/latex": [
       "$\\displaystyle \\nu^{(1)} = 9.95059728249907$"
      ],
      "text/plain": [
       "Eq(nu^(1), 9.95059728249907)"
      ]
     },
     "metadata": {},
     "output_type": "display_data"
    }
   ],
   "source": [
    "import numpy as np\n",
    "from scipy.optimize import dual_annealing\n",
    "\n",
    "\n",
    "### Set up.\n",
    "# N = 5 Closed Antiferromagnetic Ising chain.\n",
    "N = 5\n",
    "\n",
    "# Get the variational state |eta⟩.\n",
    "eta_list, parameters = eta_vector(N, m = 1, unitaries = False)\n",
    "\n",
    "# Get H|eta⟩\n",
    "Heta_list = H_ising(eta_list, closed = True)\n",
    "\n",
    "# Get expectation value\n",
    "exp_val = expectation_value(eta_list, Heta_list, parameters, J_sign = -1, absolute = False)\n",
    "\n",
    "# Get functions\n",
    "exp_val_fn, grad_fn = exp_val_funcs(exp_val, parameters, gradient_needed = False)\n",
    "\n",
    "\n",
    "### Minimize.\n",
    "# Boundaries\n",
    "lw = 0 * np.ones((len(parameters.getParameters())))\n",
    "up = 20 * np.ones((len(parameters.getParameters())))\n",
    "\n",
    "# Minimize\n",
    "result = dual_annealing(exp_val_fn, \n",
    "                        bounds=list(zip(lw, up)),\n",
    "                        maxiter=500)  # Default: 1000\n",
    "\n",
    "# Minimum. Theoretical minimum is -0.75.\n",
    "print(f'Minimum found: {result.fun}')\n",
    "\n",
    "# Solution.\n",
    "print('Values for parameters:')\n",
    "for parameter, value in zip(parameters.getParameters(), result.x):\n",
    "    display(sp.Eq(parameter, value, evaluate=False))"
   ]
  }
 ],
 "metadata": {
  "kernelspec": {
   "display_name": "Python 3 (ipykernel)",
   "language": "python",
   "name": "python3"
  },
  "language_info": {
   "codemirror_mode": {
    "name": "ipython",
    "version": 3
   },
   "file_extension": ".py",
   "mimetype": "text/x-python",
   "name": "python",
   "nbconvert_exporter": "python",
   "pygments_lexer": "ipython3",
   "version": "3.9.16"
  }
 },
 "nbformat": 4,
 "nbformat_minor": 5
}
